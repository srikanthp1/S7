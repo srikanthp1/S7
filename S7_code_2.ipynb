{
  "cells": [
    {
      "attachments": {},
      "cell_type": "markdown",
      "metadata": {},
      "source": [
        "# CODE_2"
      ]
    },
    {
      "attachments": {},
      "cell_type": "markdown",
      "metadata": {},
      "source": [
        "## Target:\n",
        "* trying the best architecture with least parameters and not sacrificying the accuracy much \n",
        "## Results:\n",
        "* Model Parameters : 7,902\n",
        "* Best Training accuracy : 98.53\n",
        "* Best Testing accuracy : 98.44\n",
        "## Analysis:\n",
        "* Model is overfitting. \n",
        "* test accuracy saturated. improvement can be adding transforms so that model can learn new structures"
      ]
    },
    {
      "cell_type": "code",
      "execution_count": 1,
      "metadata": {
        "colab": {
          "base_uri": "https://localhost:8080/",
          "height": 480
        },
        "id": "6PlbomWY3RSq",
        "outputId": "df67b9b2-07f5-4be4-e7d1-3d508c0082a3"
      },
      "outputs": [
        {
          "name": "stdout",
          "output_type": "stream",
          "text": [
            "CUDA Available? True\n"
          ]
        },
        {
          "data": {
            "image/png": "[encoded data removed]",
            "text/plain": [
              "<Figure size 640x480 with 12 Axes>"
            ]
          },
          "metadata": {},
          "output_type": "display_data"
        }
      ],
      "source": [
        "import torch\n",
        "import torch.nn as nn\n",
        "import torch.nn.functional as F\n",
        "import torch.optim as optim\n",
        "from torchvision import datasets, transforms\n",
        "import os\n",
        "# os['KMP_DUPLICATE_LIB_OK']='True'\n",
        "# CUDA?\n",
        "cuda = torch.cuda.is_available()\n",
        "\n",
        "# device = torch.device('cuda' if torch.cuda.is_available() else 'cpu')\n",
        "print(\"CUDA Available?\", cuda)\n",
        "# Train data transformations\n",
        "\n",
        "train_transforms = transforms.Compose([\n",
        "    # transforms.RandomApply([transforms.CenterCrop(22), ], p=0.1),\n",
        "    # transforms.Resize((28, 28)),\n",
        "    # transforms.RandomRotation((-15., 15.), fill=0),\n",
        "    transforms.ToTensor(),\n",
        "    transforms.Normalize((0.1307,), (0.3081,)),\n",
        "    ])\n",
        "\n",
        "# Test data transformations\n",
        "test_transforms = transforms.Compose([\n",
        "    transforms.ToTensor(),\n",
        "    transforms.Normalize((0.1307,), (0.3081,))\n",
        "    ])\n",
        "train_data = datasets.MNIST('../data', train=True, download=True, transform=train_transforms)\n",
        "test_data = datasets.MNIST('../data', train=False, download=True, transform=test_transforms)\n",
        "batch_size = 512\n",
        "\n",
        "kwargs = {'batch_size': batch_size, 'shuffle': True, 'num_workers': 2, 'pin_memory': True}\n",
        "\n",
        "test_loader = torch.utils.data.DataLoader(test_data, **kwargs)\n",
        "train_loader = torch.utils.data.DataLoader(train_data, **kwargs)\n",
        "from utils import return_dataset_images\n",
        "\n",
        "return_dataset_images(train_loader, 12)"
      ]
    },
    {
      "cell_type": "code",
      "execution_count": 2,
      "metadata": {
        "colab": {
          "base_uri": "https://localhost:8080/"
        },
        "id": "eXMwY8P0LRso",
        "outputId": "c8282dc0-2713-4e9d-e5a4-94baebe618d8"
      },
      "outputs": [
        {
          "name": "stdout",
          "output_type": "stream",
          "text": [
            "Looking in indexes: https://pypi.org/simple, https://us-python.pkg.dev/colab-wheels/public/simple/\n",
            "Requirement already satisfied: torchsummary in /usr/local/lib/python3.10/dist-packages (1.5.1)\n",
            "----------------------------------------------------------------\n",
            "        Layer (type)               Output Shape         Param #\n",
            "================================================================\n",
            "            Conv2d-1            [-1, 8, 28, 28]              80\n",
            "              ReLU-2            [-1, 8, 28, 28]               0\n",
            "       BatchNorm2d-3            [-1, 8, 28, 28]              16\n",
            "           Dropout-4            [-1, 8, 28, 28]               0\n",
            "            Conv2d-5            [-1, 8, 28, 28]             584\n",
            "              ReLU-6            [-1, 8, 28, 28]               0\n",
            "       BatchNorm2d-7            [-1, 8, 28, 28]              16\n",
            "           Dropout-8            [-1, 8, 28, 28]               0\n",
            "            Conv2d-9           [-1, 16, 28, 28]           1,168\n",
            "             ReLU-10           [-1, 16, 28, 28]               0\n",
            "      BatchNorm2d-11           [-1, 16, 28, 28]              32\n",
            "          Dropout-12           [-1, 16, 28, 28]               0\n",
            "           Conv2d-13           [-1, 10, 28, 28]             170\n",
            "        MaxPool2d-14           [-1, 10, 14, 14]               0\n",
            "           Conv2d-15           [-1, 12, 14, 14]           1,092\n",
            "             ReLU-16           [-1, 12, 14, 14]               0\n",
            "      BatchNorm2d-17           [-1, 12, 14, 14]              24\n",
            "          Dropout-18           [-1, 12, 14, 14]               0\n",
            "           Conv2d-19           [-1, 12, 14, 14]           1,308\n",
            "             ReLU-20           [-1, 12, 14, 14]               0\n",
            "      BatchNorm2d-21           [-1, 12, 14, 14]              24\n",
            "          Dropout-22           [-1, 12, 14, 14]               0\n",
            "           Conv2d-23           [-1, 10, 14, 14]             130\n",
            "        MaxPool2d-24             [-1, 10, 7, 7]               0\n",
            "           Conv2d-25             [-1, 14, 7, 7]           1,274\n",
            "             ReLU-26             [-1, 14, 7, 7]               0\n",
            "      BatchNorm2d-27             [-1, 14, 7, 7]              28\n",
            "           Conv2d-28             [-1, 14, 7, 7]           1,778\n",
            "             ReLU-29             [-1, 14, 7, 7]               0\n",
            "      BatchNorm2d-30             [-1, 14, 7, 7]              28\n",
            "           Conv2d-31             [-1, 10, 7, 7]             150\n",
            "        AvgPool2d-32             [-1, 10, 1, 1]               0\n",
            "================================================================\n",
            "Total params: 7,902\n",
            "Trainable params: 7,902\n",
            "Non-trainable params: 0\n",
            "----------------------------------------------------------------\n",
            "Input size (MB): 0.00\n",
            "Forward/backward pass size (MB): 1.04\n",
            "Params size (MB): 0.03\n",
            "Estimated Total Size (MB): 1.07\n",
            "----------------------------------------------------------------\n"
          ]
        }
      ],
      "source": [
        "!pip install torchsummary\n",
        "from model import Net2, train, test, model_summary\n",
        "\n",
        "use_cuda = torch.cuda.is_available()\n",
        "device = torch.device(\"cuda\" if use_cuda else \"cpu\")\n",
        "\n",
        "model = Net2().to(device)\n",
        "model_summary(model, (1,28,28))"
      ]
    },
    {
      "cell_type": "code",
      "execution_count": 3,
      "metadata": {
        "colab": {
          "base_uri": "https://localhost:8080/"
        },
        "id": "Owqiet9M4TV7",
        "outputId": "c315e0fe-a483-4d3b-f745-f54672a61b13"
      },
      "outputs": [
        {
          "name": "stderr",
          "output_type": "stream",
          "text": [
            "Loss=1.0981184244155884 Batch_id=117 Accuracy=44.62: 100%|██████████| 118/118 [00:22<00:00,  5.23it/s]\n"
          ]
        },
        {
          "name": "stdout",
          "output_type": "stream",
          "text": [
            "\n",
            "Test set: Average loss: 1.1042, Accuracy: 6675/10000 (66.75%)\n",
            "\n"
          ]
        },
        {
          "name": "stderr",
          "output_type": "stream",
          "text": [
            "Loss=0.3218710720539093 Batch_id=117 Accuracy=89.13: 100%|██████████| 118/118 [00:16<00:00,  7.33it/s]\n"
          ]
        },
        {
          "name": "stdout",
          "output_type": "stream",
          "text": [
            "\n",
            "Test set: Average loss: 0.3931, Accuracy: 8991/10000 (89.91%)\n",
            "\n"
          ]
        },
        {
          "name": "stderr",
          "output_type": "stream",
          "text": [
            "Loss=0.12472046166658401 Batch_id=117 Accuracy=95.18: 100%|██████████| 118/118 [00:16<00:00,  7.04it/s]\n"
          ]
        },
        {
          "name": "stdout",
          "output_type": "stream",
          "text": [
            "\n",
            "Test set: Average loss: 0.2469, Accuracy: 9332/10000 (93.32%)\n",
            "\n"
          ]
        },
        {
          "name": "stderr",
          "output_type": "stream",
          "text": [
            "Loss=0.10167005658149719 Batch_id=117 Accuracy=96.48: 100%|██████████| 118/118 [00:15<00:00,  7.51it/s]\n"
          ]
        },
        {
          "name": "stdout",
          "output_type": "stream",
          "text": [
            "\n",
            "Test set: Average loss: 0.1420, Accuracy: 9618/10000 (96.18%)\n",
            "\n"
          ]
        },
        {
          "name": "stderr",
          "output_type": "stream",
          "text": [
            "Loss=0.1294909566640854 Batch_id=117 Accuracy=97.17: 100%|██████████| 118/118 [00:17<00:00,  6.85it/s]\n"
          ]
        },
        {
          "name": "stdout",
          "output_type": "stream",
          "text": [
            "\n",
            "Test set: Average loss: 0.1061, Accuracy: 9721/10000 (97.21%)\n",
            "\n"
          ]
        },
        {
          "name": "stderr",
          "output_type": "stream",
          "text": [
            "Loss=0.08440478891134262 Batch_id=117 Accuracy=97.54: 100%|██████████| 118/118 [00:16<00:00,  7.37it/s]\n"
          ]
        },
        {
          "name": "stdout",
          "output_type": "stream",
          "text": [
            "\n",
            "Test set: Average loss: 0.0813, Accuracy: 9787/10000 (97.87%)\n",
            "\n"
          ]
        },
        {
          "name": "stderr",
          "output_type": "stream",
          "text": [
            "Loss=0.11020705848932266 Batch_id=117 Accuracy=97.84: 100%|██████████| 118/118 [00:15<00:00,  7.61it/s]\n"
          ]
        },
        {
          "name": "stdout",
          "output_type": "stream",
          "text": [
            "\n",
            "Test set: Average loss: 0.0833, Accuracy: 9778/10000 (97.78%)\n",
            "\n"
          ]
        },
        {
          "name": "stderr",
          "output_type": "stream",
          "text": [
            "Loss=0.0750037208199501 Batch_id=117 Accuracy=98.03: 100%|██████████| 118/118 [00:15<00:00,  7.54it/s]\n"
          ]
        },
        {
          "name": "stdout",
          "output_type": "stream",
          "text": [
            "\n",
            "Test set: Average loss: 0.0785, Accuracy: 9772/10000 (97.72%)\n",
            "\n"
          ]
        },
        {
          "name": "stderr",
          "output_type": "stream",
          "text": [
            "Loss=0.08075378835201263 Batch_id=117 Accuracy=98.19: 100%|██████████| 118/118 [00:15<00:00,  7.84it/s]\n"
          ]
        },
        {
          "name": "stdout",
          "output_type": "stream",
          "text": [
            "\n",
            "Test set: Average loss: 0.0550, Accuracy: 9853/10000 (98.53%)\n",
            "\n"
          ]
        },
        {
          "name": "stderr",
          "output_type": "stream",
          "text": [
            "Loss=0.025654122233390808 Batch_id=117 Accuracy=98.27: 100%|██████████| 118/118 [00:15<00:00,  7.83it/s]\n"
          ]
        },
        {
          "name": "stdout",
          "output_type": "stream",
          "text": [
            "\n",
            "Test set: Average loss: 0.0656, Accuracy: 9812/10000 (98.12%)\n",
            "\n"
          ]
        },
        {
          "name": "stderr",
          "output_type": "stream",
          "text": [
            "Loss=0.07886628806591034 Batch_id=117 Accuracy=98.30: 100%|██████████| 118/118 [00:14<00:00,  7.96it/s]\n"
          ]
        },
        {
          "name": "stdout",
          "output_type": "stream",
          "text": [
            "\n",
            "Test set: Average loss: 0.0585, Accuracy: 9827/10000 (98.27%)\n",
            "\n"
          ]
        },
        {
          "name": "stderr",
          "output_type": "stream",
          "text": [
            "Loss=0.09439980983734131 Batch_id=117 Accuracy=98.38: 100%|██████████| 118/118 [00:14<00:00,  7.98it/s]\n"
          ]
        },
        {
          "name": "stdout",
          "output_type": "stream",
          "text": [
            "\n",
            "Test set: Average loss: 0.0541, Accuracy: 9835/10000 (98.35%)\n",
            "\n"
          ]
        },
        {
          "name": "stderr",
          "output_type": "stream",
          "text": [
            "Loss=0.056162845343351364 Batch_id=117 Accuracy=98.56: 100%|██████████| 118/118 [00:15<00:00,  7.75it/s]\n"
          ]
        },
        {
          "name": "stdout",
          "output_type": "stream",
          "text": [
            "\n",
            "Test set: Average loss: 0.0616, Accuracy: 9819/10000 (98.19%)\n",
            "\n"
          ]
        },
        {
          "name": "stderr",
          "output_type": "stream",
          "text": [
            "Loss=0.050730302929878235 Batch_id=117 Accuracy=98.54: 100%|██████████| 118/118 [00:15<00:00,  7.86it/s]\n"
          ]
        },
        {
          "name": "stdout",
          "output_type": "stream",
          "text": [
            "\n",
            "Test set: Average loss: 0.0524, Accuracy: 9841/10000 (98.41%)\n",
            "\n"
          ]
        },
        {
          "name": "stderr",
          "output_type": "stream",
          "text": [
            "Loss=0.03160296007990837 Batch_id=117 Accuracy=98.53: 100%|██████████| 118/118 [00:14<00:00,  7.97it/s]\n"
          ]
        },
        {
          "name": "stdout",
          "output_type": "stream",
          "text": [
            "\n",
            "Test set: Average loss: 0.0499, Accuracy: 9844/10000 (98.44%)\n",
            "\n"
          ]
        }
      ],
      "source": [
        "\n",
        "optimizer = optim.SGD(model.parameters(), lr=0.01, momentum=0.9)\n",
        "# scheduler = optim.lr_scheduler.StepLR(optimizer, step_size=15, gamma=0.1, verbose=True)\n",
        "# New Line\n",
        "criterion = nn.CrossEntropyLoss()\n",
        "num_epochs = 15\n",
        "\n",
        "for epoch in range(1, num_epochs+1):\n",
        "  # print(f'Epoch {epoch}')\n",
        "  train(model, device, train_loader, optimizer, criterion)\n",
        "  test(model, device, test_loader)\n",
        "  # scheduler.step()"
      ]
    },
    {
      "cell_type": "code",
      "execution_count": null,
      "metadata": {
        "id": "NgWeqDKYLRsr"
      },
      "outputs": [],
      "source": []
    }
  ],
  "metadata": {
    "accelerator": "GPU",
    "colab": {
      "gpuType": "T4",
      "provenance": []
    },
    "kernelspec": {
      "display_name": "Python 3",
      "name": "python3"
    },
    "language_info": {
      "codemirror_mode": {
        "name": "ipython",
        "version": 3
      },
      "file_extension": ".py",
      "mimetype": "text/x-python",
      "name": "python",
      "nbconvert_exporter": "python",
      "pygments_lexer": "ipython3",
      "version": "3.7.13"
    },
    "vscode": {
      "interpreter": {
        "hash": "011ba309760d8a43e34cb41abcde249ab96fa97c2f17e6218fe91e2370bc035e"
      }
    }
  },
  "nbformat": 4,
  "nbformat_minor": 0
}
